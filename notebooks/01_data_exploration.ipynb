{
 "cells": [
  {
   "cell_type": "markdown",
   "id": "3a2397db",
   "metadata": {},
   "source": []
  }
 ],
 "metadata": {
  "language_info": {
   "name": "python"
  }
 },
 "nbformat": 4,
 "nbformat_minor": 5
}
